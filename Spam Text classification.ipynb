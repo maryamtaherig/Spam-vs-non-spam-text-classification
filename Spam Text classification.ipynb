{
 "cells": [
  {
   "cell_type": "code",
   "execution_count": 1,
   "metadata": {},
   "outputs": [],
   "source": [
    "import numpy as np\n",
    "import pandas as pd \n",
    "from sklearn.ensemble import RandomForestClassifier\n",
    "from sklearn.feature_extraction.text import CountVectorizer , TfidfVectorizer "
   ]
  },
  {
   "cell_type": "code",
   "execution_count": 2,
   "metadata": {},
   "outputs": [],
   "source": [
    "data = train = pd.read_csv('SPAM text message 20170820 - Data.csv')"
   ]
  },
  {
   "cell_type": "code",
   "execution_count": 3,
   "metadata": {},
   "outputs": [
    {
     "name": "stdout",
     "output_type": "stream",
     "text": [
      "<class 'pandas.core.frame.DataFrame'>\n",
      "RangeIndex: 5572 entries, 0 to 5571\n",
      "Data columns (total 2 columns):\n",
      " #   Column    Non-Null Count  Dtype \n",
      "---  ------    --------------  ----- \n",
      " 0   Category  5572 non-null   object\n",
      " 1   Message   5572 non-null   object\n",
      "dtypes: object(2)\n",
      "memory usage: 87.2+ KB\n"
     ]
    }
   ],
   "source": [
    "data.info()"
   ]
  },
  {
   "cell_type": "code",
   "execution_count": 4,
   "metadata": {},
   "outputs": [
    {
     "data": {
      "text/html": [
       "<div>\n",
       "<style scoped>\n",
       "    .dataframe tbody tr th:only-of-type {\n",
       "        vertical-align: middle;\n",
       "    }\n",
       "\n",
       "    .dataframe tbody tr th {\n",
       "        vertical-align: top;\n",
       "    }\n",
       "\n",
       "    .dataframe thead th {\n",
       "        text-align: right;\n",
       "    }\n",
       "</style>\n",
       "<table border=\"1\" class=\"dataframe\">\n",
       "  <thead>\n",
       "    <tr style=\"text-align: right;\">\n",
       "      <th></th>\n",
       "      <th>Category</th>\n",
       "      <th>Message</th>\n",
       "    </tr>\n",
       "  </thead>\n",
       "  <tbody>\n",
       "    <tr>\n",
       "      <th>0</th>\n",
       "      <td>ham</td>\n",
       "      <td>Go until jurong point, crazy.. Available only ...</td>\n",
       "    </tr>\n",
       "    <tr>\n",
       "      <th>1</th>\n",
       "      <td>ham</td>\n",
       "      <td>Ok lar... Joking wif u oni...</td>\n",
       "    </tr>\n",
       "    <tr>\n",
       "      <th>2</th>\n",
       "      <td>spam</td>\n",
       "      <td>Free entry in 2 a wkly comp to win FA Cup fina...</td>\n",
       "    </tr>\n",
       "    <tr>\n",
       "      <th>3</th>\n",
       "      <td>ham</td>\n",
       "      <td>U dun say so early hor... U c already then say...</td>\n",
       "    </tr>\n",
       "    <tr>\n",
       "      <th>4</th>\n",
       "      <td>ham</td>\n",
       "      <td>Nah I don't think he goes to usf, he lives aro...</td>\n",
       "    </tr>\n",
       "  </tbody>\n",
       "</table>\n",
       "</div>"
      ],
      "text/plain": [
       "  Category                                            Message\n",
       "0      ham  Go until jurong point, crazy.. Available only ...\n",
       "1      ham                      Ok lar... Joking wif u oni...\n",
       "2     spam  Free entry in 2 a wkly comp to win FA Cup fina...\n",
       "3      ham  U dun say so early hor... U c already then say...\n",
       "4      ham  Nah I don't think he goes to usf, he lives aro..."
      ]
     },
     "execution_count": 4,
     "metadata": {},
     "output_type": "execute_result"
    }
   ],
   "source": [
    "data.head()"
   ]
  },
  {
   "cell_type": "code",
   "execution_count": 5,
   "metadata": {},
   "outputs": [],
   "source": [
    "from sklearn import preprocessing"
   ]
  },
  {
   "cell_type": "code",
   "execution_count": 6,
   "metadata": {},
   "outputs": [],
   "source": [
    "le = preprocessing.LabelEncoder()\n",
    "data['Category']= le.fit_transform(data['Category']) "
   ]
  },
  {
   "cell_type": "code",
   "execution_count": 7,
   "metadata": {},
   "outputs": [
    {
     "data": {
      "text/html": [
       "<div>\n",
       "<style scoped>\n",
       "    .dataframe tbody tr th:only-of-type {\n",
       "        vertical-align: middle;\n",
       "    }\n",
       "\n",
       "    .dataframe tbody tr th {\n",
       "        vertical-align: top;\n",
       "    }\n",
       "\n",
       "    .dataframe thead th {\n",
       "        text-align: right;\n",
       "    }\n",
       "</style>\n",
       "<table border=\"1\" class=\"dataframe\">\n",
       "  <thead>\n",
       "    <tr style=\"text-align: right;\">\n",
       "      <th></th>\n",
       "      <th>Category</th>\n",
       "      <th>Message</th>\n",
       "    </tr>\n",
       "  </thead>\n",
       "  <tbody>\n",
       "    <tr>\n",
       "      <th>0</th>\n",
       "      <td>0</td>\n",
       "      <td>Go until jurong point, crazy.. Available only ...</td>\n",
       "    </tr>\n",
       "    <tr>\n",
       "      <th>1</th>\n",
       "      <td>0</td>\n",
       "      <td>Ok lar... Joking wif u oni...</td>\n",
       "    </tr>\n",
       "    <tr>\n",
       "      <th>2</th>\n",
       "      <td>1</td>\n",
       "      <td>Free entry in 2 a wkly comp to win FA Cup fina...</td>\n",
       "    </tr>\n",
       "    <tr>\n",
       "      <th>3</th>\n",
       "      <td>0</td>\n",
       "      <td>U dun say so early hor... U c already then say...</td>\n",
       "    </tr>\n",
       "    <tr>\n",
       "      <th>4</th>\n",
       "      <td>0</td>\n",
       "      <td>Nah I don't think he goes to usf, he lives aro...</td>\n",
       "    </tr>\n",
       "  </tbody>\n",
       "</table>\n",
       "</div>"
      ],
      "text/plain": [
       "   Category                                            Message\n",
       "0         0  Go until jurong point, crazy.. Available only ...\n",
       "1         0                      Ok lar... Joking wif u oni...\n",
       "2         1  Free entry in 2 a wkly comp to win FA Cup fina...\n",
       "3         0  U dun say so early hor... U c already then say...\n",
       "4         0  Nah I don't think he goes to usf, he lives aro..."
      ]
     },
     "execution_count": 7,
     "metadata": {},
     "output_type": "execute_result"
    }
   ],
   "source": [
    "data.head()"
   ]
  },
  {
   "cell_type": "code",
   "execution_count": 8,
   "metadata": {},
   "outputs": [
    {
     "name": "stdout",
     "output_type": "stream",
     "text": [
      "maximum of messages: 910  - and mean : 80.36898779612348\n"
     ]
    }
   ],
   "source": [
    "s = data.Message.str.len()\n",
    "print(\"maximum of messages:\",s.max(),\" - and mean :\",s.mean())"
   ]
  },
  {
   "cell_type": "code",
   "execution_count": 9,
   "metadata": {},
   "outputs": [
    {
     "data": {
      "text/plain": [
       "<matplotlib.axes._subplots.AxesSubplot at 0x221b8868550>"
      ]
     },
     "execution_count": 9,
     "metadata": {},
     "output_type": "execute_result"
    }
   ],
   "source": [
    "s.hist()"
   ]
  },
  {
   "cell_type": "markdown",
   "metadata": {},
   "source": [
    "TRAIN MODEL"
   ]
  },
  {
   "cell_type": "code",
   "execution_count": 10,
   "metadata": {},
   "outputs": [],
   "source": [
    "from sklearn.model_selection import train_test_split"
   ]
  },
  {
   "cell_type": "code",
   "execution_count": 11,
   "metadata": {},
   "outputs": [],
   "source": [
    "y  = data.Category\n",
    "X = data.drop('Category',axis=1)\n",
    "X_train, X_test, y_train, y_test = train_test_split(X, y, test_size=0.33, random_state=42)"
   ]
  },
  {
   "cell_type": "code",
   "execution_count": 12,
   "metadata": {},
   "outputs": [],
   "source": [
    "import re, string\n",
    "re_tok = re.compile(f'([{string.punctuation}“”¨«»®´·º½¾¿¡§£₤‘’])')\n",
    "def tokenize(s): return re_tok.sub(r' \\1 ', s).split()"
   ]
  },
  {
   "cell_type": "markdown",
   "metadata": {},
   "source": [
    "## Vectorize with tf-idf"
   ]
  },
  {
   "cell_type": "code",
   "execution_count": 13,
   "metadata": {},
   "outputs": [
    {
     "name": "stdout",
     "output_type": "stream",
     "text": [
      "  (0, 281)\t0.4057767091630488\n",
      "  (0, 909)\t0.2838116651948303\n",
      "  (0, 6158)\t0.45848108611314875\n",
      "  (0, 119)\t0.2858297756335044\n",
      "  (0, 280)\t0.21341746846642123\n",
      "  (0, 904)\t0.19666632465369965\n",
      "  (0, 1958)\t0.42309555076339195\n",
      "  (0, 4282)\t0.2126011668229747\n",
      "  (0, 6099)\t0.16443880133658578\n",
      "  (0, 6972)\t0.3569576366226956\n",
      "  (1, 3912)\t0.1740657696189376\n",
      "  (1, 1218)\t0.1963661451001113\n",
      "  (1, 2199)\t0.20544277712982406\n",
      "  (1, 204)\t0.1818262444189121\n",
      "  (1, 5783)\t0.20052449412757423\n",
      "  (1, 6826)\t0.12965668926369392\n",
      "  (1, 3238)\t0.13543351801539064\n",
      "  (1, 3193)\t0.14739711508485406\n",
      "  (1, 419)\t0.09114598365350444\n",
      "  (1, 1036)\t0.16804627771249983\n",
      "  (1, 2499)\t0.15373211786434757\n",
      "  (1, 5900)\t0.1514511085774257\n",
      "  (1, 2833)\t0.1776678953914492\n",
      "  (1, 3148)\t0.164276077426628\n",
      "  (1, 1258)\t0.13932477701809373\n",
      "  :\t:\n",
      "  (3730, 2592)\t0.20754355764661978\n",
      "  (3730, 2932)\t0.1720510441686573\n",
      "  (3730, 4889)\t0.2200283599618286\n",
      "  (3730, 109)\t0.1954392986926086\n",
      "  (3730, 3796)\t0.19084852307097971\n",
      "  (3730, 3112)\t0.16991004684621017\n",
      "  (3730, 321)\t0.16457775347875747\n",
      "  (3730, 97)\t0.12579415419723924\n",
      "  (3730, 419)\t0.10403757594567241\n",
      "  (3730, 313)\t0.12253719088398948\n",
      "  (3730, 3111)\t0.10402844591641945\n",
      "  (3731, 3475)\t0.49247794476145934\n",
      "  (3731, 5144)\t0.480688063712623\n",
      "  (3731, 4337)\t0.44149210055171706\n",
      "  (3731, 3196)\t0.4306894954098205\n",
      "  (3731, 5991)\t0.3596473848116492\n",
      "  (3731, 3111)\t0.1290329478077077\n",
      "  (3732, 2160)\t0.48910470846937526\n",
      "  (3732, 5322)\t0.43850733965839434\n",
      "  (3732, 5547)\t0.45418791063844727\n",
      "  (3732, 2916)\t0.2806397449925874\n",
      "  (3732, 5061)\t0.31709376853242055\n",
      "  (3732, 2158)\t0.3053886969173165\n",
      "  (3732, 3482)\t0.23210054348395048\n",
      "  (3732, 3342)\t0.18910630884951568   (0, 6160)\t0.3140620541692544\n",
      "  (0, 6135)\t0.1648451803773061\n",
      "  (0, 6099)\t0.19481151893857018\n",
      "  (0, 5788)\t0.13786629801850267\n",
      "  (0, 5786)\t0.09788573809015377\n",
      "  (0, 5281)\t0.09154296348313895\n",
      "  (0, 4832)\t0.25216616671083664\n",
      "  (0, 4630)\t0.14484809818263045\n",
      "  (0, 4113)\t0.08210695425516226\n",
      "  (0, 3888)\t0.07843864999111104\n",
      "  (0, 3788)\t0.17954395625973157\n",
      "  (0, 3657)\t0.1945600891394102\n",
      "  (0, 3342)\t0.07742833876159676\n",
      "  (0, 3235)\t0.2394732916281044\n",
      "  (0, 3226)\t0.16362455861327255\n",
      "  (0, 2653)\t0.0939145083054493\n",
      "  (0, 2149)\t0.157898114290247\n",
      "  (0, 2066)\t0.1899023367827728\n",
      "  (0, 1883)\t0.18255294884156004\n",
      "  (0, 1476)\t0.1682564948132882\n",
      "  (0, 1473)\t0.11777418691171615\n",
      "  (0, 965)\t0.06332627245887068\n",
      "  (0, 928)\t0.17685232067515624\n",
      "  (0, 926)\t0.09576953413168962\n",
      "  (0, 908)\t0.200260717305814\n",
      "  :\t:\n",
      "  (1838, 3746)\t0.19980077683516134\n",
      "  (1838, 3745)\t0.19097341305085314\n",
      "  (1838, 3665)\t0.19980077683516134\n",
      "  (1838, 3658)\t0.11022272627217376\n",
      "  (1838, 3342)\t0.07951395531350734\n",
      "  (1838, 3238)\t0.13171415655024077\n",
      "  (1838, 3228)\t0.19980077683516134\n",
      "  (1838, 3226)\t0.16803196413431368\n",
      "  (1838, 3205)\t0.14157987676366152\n",
      "  (1838, 3123)\t0.13019285831988991\n",
      "  (1838, 3111)\t0.08863509560683562\n",
      "  (1838, 2998)\t0.2056549576239034\n",
      "  (1838, 2993)\t0.1346091426367683\n",
      "  (1838, 2972)\t0.19097341305085314\n",
      "  (1838, 2970)\t0.12875496184802623\n",
      "  (1838, 2917)\t0.16093081716611304\n",
      "  (1838, 2916)\t0.11800122522772111\n",
      "  (1838, 2822)\t0.16093081716611304\n",
      "  (1838, 1768)\t0.09318456753295297\n",
      "  (1838, 1361)\t0.14215649433881802\n",
      "  (1838, 1243)\t0.13039517107916862\n",
      "  (1838, 217)\t0.16215127180268146\n",
      "  (1838, 175)\t0.10786953364835442\n",
      "  (1838, 115)\t0.0928264043789442\n",
      "  (1838, 97)\t0.06330228028626922\n"
     ]
    }
   ],
   "source": [
    "n = X_train.shape[0]\n",
    "vec = TfidfVectorizer(ngram_range=(1,2), tokenizer=tokenize,\n",
    "               min_df=3, max_df=0.9, strip_accents='unicode', use_idf=1,\n",
    "               smooth_idf=1, sublinear_tf=1 )\n",
    "\n",
    "trn_term_doc = vec.fit_transform(X_train['Message'])\n",
    "test_term_doc = vec.transform(X_test['Message'])\n",
    "\n",
    "print(trn_term_doc, test_term_doc)"
   ]
  },
  {
   "cell_type": "markdown",
   "metadata": {},
   "source": [
    "## IMPORT LIBRARIES"
   ]
  },
  {
   "cell_type": "code",
   "execution_count": 17,
   "metadata": {},
   "outputs": [],
   "source": [
    "from sklearn import model_selection, naive_bayes, svm\n",
    "from sklearn.metrics import accuracy_score"
   ]
  },
  {
   "cell_type": "markdown",
   "metadata": {},
   "source": [
    "## FIT THE MODEL WITH  NAIVE BAYES"
   ]
  },
  {
   "cell_type": "code",
   "execution_count": 18,
   "metadata": {},
   "outputs": [],
   "source": [
    "# fit the training dataset on the NB classifier\n",
    "Naive = naive_bayes.MultinomialNB()\n",
    "Naive.fit(trn_term_doc,y_train)\n",
    "\n",
    "# predict the labels on validation dataset\n",
    "predictions_NB = Naive.predict(test_term_doc)"
   ]
  },
  {
   "cell_type": "markdown",
   "metadata": {},
   "source": [
    "## FIT THE MODEL WITH SVM CLASSIFIER"
   ]
  },
  {
   "cell_type": "code",
   "execution_count": 19,
   "metadata": {},
   "outputs": [],
   "source": [
    "# fit the training dataset on the classifier\n",
    "SVM = svm.SVC(C=1.0, kernel='linear', degree=3, gamma='auto')\n",
    "SVM.fit(trn_term_doc,y_train)\n",
    "\n",
    "# predict the labels on validation dataset\n",
    "predictions_SVM = SVM.predict(test_term_doc)"
   ]
  },
  {
   "cell_type": "markdown",
   "metadata": {},
   "source": [
    "## accuracy "
   ]
  },
  {
   "cell_type": "code",
   "execution_count": 20,
   "metadata": {},
   "outputs": [
    {
     "name": "stdout",
     "output_type": "stream",
     "text": [
      "SVM Accuracy Score ->  98.9668297988037\n",
      "Naive Bayes Accuracy Score ->  98.20554649265905\n"
     ]
    }
   ],
   "source": [
    "# Use accuracy_score function to get the accuracy\n",
    "print(\"SVM Accuracy Score -> \",accuracy_score(predictions_SVM, y_test)*100)\n",
    "print(\"Naive Bayes Accuracy Score -> \",accuracy_score(predictions_NB, y_test)*100)"
   ]
  },
  {
   "cell_type": "markdown",
   "metadata": {},
   "source": [
    "## END"
   ]
  }
 ],
 "metadata": {
  "kernelspec": {
   "display_name": "Python 3",
   "language": "python",
   "name": "python3"
  },
  "language_info": {
   "codemirror_mode": {
    "name": "ipython",
    "version": 3
   },
   "file_extension": ".py",
   "mimetype": "text/x-python",
   "name": "python",
   "nbconvert_exporter": "python",
   "pygments_lexer": "ipython3",
   "version": "3.7.3"
  }
 },
 "nbformat": 4,
 "nbformat_minor": 2
}
